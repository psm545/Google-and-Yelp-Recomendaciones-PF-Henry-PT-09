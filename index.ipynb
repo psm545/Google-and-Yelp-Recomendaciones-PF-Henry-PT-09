{
 "cells": [
  {
   "cell_type": "code",
   "execution_count": null,
   "metadata": {},
   "outputs": [],
   "source": [
    "def retornar(numero):\n",
    "    if numero % 2 == 0:\n",
    "        binario = bin(numero)\n",
    "        return binario\n",
    "    else:\n",
    "        hex(numero)\n",
    "\n",
    "\n",
    "def retornar_cualquier_development():\n",
    "    print ('retornar_cualquierasdwedcosa')\n",
    "\n",
    "\n",
    "def retornar_cualquier_cosa_no_Se_development():\n",
    "    print ('retornar_cualquier_cosa3_cosa_noseedededewfefgit')"
   ]
  }
 ],
 "metadata": {
  "language_info": {
   "name": "python"
  }
 },
 "nbformat": 4,
 "nbformat_minor": 2
}
