{
 "cells": [
  {
   "cell_type": "code",
   "execution_count": 4,
   "metadata": {},
   "outputs": [
    {
     "name": "stdout",
     "output_type": "stream",
     "text": [
      "El resultado es: d\n"
     ]
    }
   ],
   "source": [
    "#Funcion recibir numero par a binario, inpar a Hexadecimal \n",
    "def convertir_numero(num):\n",
    "    if num % 2 == 0:  # Verifica si el número es par\n",
    "        return bin(num)[2:]  # Convierte a binario y elimina el prefijo '0b'\n",
    "    else:\n",
    "        return hex(num)[2:]  # Convierte a hexadecimal y elimina el prefijo '0x'\n",
    "\n",
    "# Ejemplo de uso\n",
    "numero = int(input(\"Introduce un número entero: \"))\n",
    "resultado = convertir_numero(numero)\n",
    "print(f\"El resultado es: {resultado}\")\n"
   ]
  }
 ],
 "metadata": {
  "kernelspec": {
   "display_name": "Python 3",
   "language": "python",
   "name": "python3"
  },
  "language_info": {
   "codemirror_mode": {
    "name": "ipython",
    "version": 3
   },
   "file_extension": ".py",
   "mimetype": "text/x-python",
   "name": "python",
   "nbconvert_exporter": "python",
   "pygments_lexer": "ipython3",
   "version": "3.12.3"
  }
 },
 "nbformat": 4,
 "nbformat_minor": 2
}
