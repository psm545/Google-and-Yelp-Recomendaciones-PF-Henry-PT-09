{
 "cells": [
  {
   "cell_type": "code",
   "execution_count": null,
   "metadata": {},
   "outputs": [],
   "source": [
    "def retornar(numero):\n",
    "    if numero % 2 == 0:\n",
    "        binario = bin(numero)\n",
    "        return binario\n",
    "    else:\n",
    "        hex(numero)\n",
    "\n",
    "\n",
    "def retornar_cualquier_development():\n",
    "    print ('retornar_cualquierasdwedcosa')\n",
    "\n",
    "\n",
    "def retornar_cualquier_cosa_no_Se_development():\n",
    "    print ('retornar_cualquier_cosa3_cosa_noseedededewuhuhfefgit')"
   ]
  }
 ],
 "metadata": {
  "kernelspec": {
   "display_name": "Python 3",
   "language": "python",
   "name": "python3"
  },
  "language_info": {
   "name": "python",
   "version": "3.11.0"
  }
 },
 "nbformat": 4,
 "nbformat_minor": 2
}
