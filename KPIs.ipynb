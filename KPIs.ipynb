{
 "cells": [
  {
   "cell_type": "markdown",
   "metadata": {},
   "source": [
    "![Logo](C:\\\\Users\\\\fede\\\\Desktop\\\\PROYECTOFINAL\\\\PROYECTO\\\\imagenes\\\\datascienceLogoTexto.jpg)\n",
    "\n",
    "\n",
    "\n",
    "\n",
    "\n",
    "# **KPIs (Key Performance Indicators)**\n",
    "\n",
    "### Relevancia de los KPIs\n",
    "\n",
    "Los **KPIs (Key Performance Indicators)** son métricas fundamentales para medir el desempeño de un proyecto, equipo o empresa en relación con sus objetivos estratégicos. Su relevancia radica en su capacidad para proporcionar una visión clara y cuantificable del progreso, facilitando la toma de decisiones informadas. Al monitorear KPIs, se pueden identificar rápidamente áreas de mejora, evaluar la efectividad de las estrategias implementadas y alinear los esfuerzos con las metas a largo plazo. En resumen, los KPIs son herramientas esenciales para asegurar que se está en el camino correcto hacia el éxito. Para este proyecto seleccionaremos 4 KPIs justificando su relevancia para la empresa.\n"
   ]
  },
  {
   "cell_type": "markdown",
   "metadata": {},
   "source": [
    "\n",
    "\n",
    "1. **Puntuación promedio de satisfacción del cliente**\n",
    "   - Fuente: Campo 'stars' en Yelp y 'avg_rating' en Google Maps\n",
    "   - Cálculo: Promedio de calificaciones para cada restaurante de la cadena\n",
    "   - Relevancia: Este KPI es crucial porque mide directamente la percepción de los clientes sobre la calidad del servicio y la comida, lo que impacta directamente en la reputación y éxito del restaurante.\n",
    "   "
   ]
  },
  {
   "cell_type": "code",
   "execution_count": null,
   "metadata": {},
   "outputs": [],
   "source": [
    "# Supongamos que tienes dos columnas: 'stars' (Yelp) y 'avg_rating' (Google Maps)\n",
    "# Puedes combinarlas en una sola columna 'rating' si es necesario\n",
    "\n",
    "\n",
    "df['stars'] = df[['stars', 'avg_rating']].mean(axis=1)\n",
    "\n",
    "# Puntuación promedio de satisfacción del cliente\n",
    "average_customer_satisfaction = df['rating'].mean()\n",
    "print(f\"Puntuación promedio de satisfacción del cliente: {average_customer_satisfaction:.2f}\")"
   ]
  },
  {
   "cell_type": "markdown",
   "metadata": {},
   "source": [
    "\n",
    "2. **Tasa de crecimiento de reseñas**\n",
    "   - Fuente: Campo 'review_count' en Yelp y 'num_of_reviews' en Google Maps\n",
    "   - Cálculo: (Número de reseñas nuevas / Número total de reseñas) * 100, por período\n",
    "\n"
   ]
  },
  {
   "cell_type": "code",
   "execution_count": null,
   "metadata": {},
   "outputs": [],
   "source": []
  },
  {
   "cell_type": "markdown",
   "metadata": {},
   "source": [
    "4. **Tasa de recomendación**\n",
    "   - Fuente: Campo 'text' en Yelp y Google Maps\n",
    "   - Cálculo: (Número de reseñas que recomiendan el restaurante / Número total de reseñas) * 100\n"
   ]
  },
  {
   "cell_type": "code",
   "execution_count": null,
   "metadata": {},
   "outputs": [],
   "source": []
  },
  {
   "cell_type": "markdown",
   "metadata": {},
   "source": [
    "\n",
    "7. **Índice de competitividad local**\n",
    "   - Fuente: Campos de ubicación y categoría en Yelp y Google Maps\n",
    "   - Cálculo: (Calificación promedio del restaurante / Promedio de calificaciones de restaurantes chinos en un radio de 5 km) * 100"
   ]
  },
  {
   "cell_type": "code",
   "execution_count": null,
   "metadata": {},
   "outputs": [],
   "source": []
  }
 ],
 "metadata": {
  "language_info": {
   "name": "python"
  }
 },
 "nbformat": 4,
 "nbformat_minor": 2
}
